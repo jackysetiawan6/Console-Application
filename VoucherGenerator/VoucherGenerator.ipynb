{
 "cells": [
  {
   "cell_type": "markdown",
   "metadata": {},
   "source": [
    "***Unique Code Generator***"
   ]
  },
  {
   "cell_type": "code",
   "execution_count": null,
   "metadata": {},
   "outputs": [],
   "source": [
    "import random\n",
    "\n",
    "number_of_data = 500\n",
    "number_of_digits = 6\n",
    "limit = range(10**(number_of_digits-1), 10**number_of_digits)\n",
    "random_numbers = random.sample(limit, number_of_data)"
   ]
  },
  {
   "cell_type": "markdown",
   "metadata": {},
   "source": [
    "***Data Modifier***"
   ]
  },
  {
   "cell_type": "code",
   "execution_count": null,
   "metadata": {},
   "outputs": [],
   "source": [
    "import openpyxl\n",
    "\n",
    "workbook = openpyxl.load_workbook('C:\\\\Users\\\\jacky\\\\Downloads\\\\Penghuni RTB.xlsx')\n",
    "worksheet = workbook['2023-2024']\n",
    "for num in range(2, worksheet.max_row+1):\n",
    "    worksheet.cell(row=num, column=3).value = random_numbers[num]\n",
    "workbook.save('C:\\\\Users\\\\jacky\\\\Downloads\\\\Penghuni RTB New.xlsx')\n",
    "workbook.close()"
   ]
  },
  {
   "cell_type": "markdown",
   "metadata": {},
   "source": [
    "***Image Manipulator***"
   ]
  },
  {
   "cell_type": "code",
   "execution_count": null,
   "metadata": {},
   "outputs": [],
   "source": [
    "from PIL import Image, ImageDraw, ImageFont\n",
    "import openpyxl\n",
    "\n",
    "font = ImageFont.truetype('arial.ttf', size=20)\n",
    "position = (200, 240)\n",
    "workbook = openpyxl.load_workbook('C:\\\\Users\\\\jacky\\\\Downloads\\\\Penghuni RTB New.xlsx')\n",
    "worksheet = workbook['2023-2024']\n",
    "for num in range(2, worksheet.max_row+1):\n",
    "    name = worksheet.cell(row=num, column=1).value\n",
    "    kelas = worksheet.cell(row=num, column=2).value\n",
    "    code = worksheet.cell(row=num, column=3).value\n",
    "    image = Image.open(\"VoucherTemplate.png\")\n",
    "    draw = ImageDraw.Draw(image)\n",
    "    draw.text(position, str(code), font=font, fill=(0, 0, 0))\n",
    "    image.save('Vouchers\\\\' + str(kelas) + '_' + str(name) + '.png')\n",
    "workbook.close()"
   ]
  },
  {
   "cell_type": "markdown",
   "metadata": {},
   "source": [
    "***Automate Checker***"
   ]
  },
  {
   "cell_type": "code",
   "execution_count": null,
   "metadata": {},
   "outputs": [],
   "source": [
    "import pandas as pd\n",
    "\n",
    "dataset = pd.read_excel('Penghuni RTB New.xlsx')\n",
    "dataset = pd.DataFrame(dataset)\n",
    "dataset.describe(include='all')"
   ]
  },
  {
   "cell_type": "code",
   "execution_count": null,
   "metadata": {},
   "outputs": [],
   "source": [
    "import openpyxl\n",
    "from collections import Counter\n",
    "\n",
    "while True:\n",
    "    workbook = openpyxl.load_workbook('Penghuni RTB New.xlsx')\n",
    "    worksheet = workbook['2023-2024']\n",
    "    values = [cell.value for cell in worksheet['D']]\n",
    "    if Counter(values)[0] == 0:\n",
    "        print('All vouchers have been used')\n",
    "        break\n",
    "    code_to_find = input('Enter the voucher code to find: ')\n",
    "    for num in range(2, worksheet.max_row+1):\n",
    "        if worksheet.cell(row=num, column=3).value == int(code_to_find):\n",
    "            current = worksheet.cell(row=num, column=4).value\n",
    "            if current == 1:\n",
    "                print('Voucher already used by ' + str(worksheet.cell(row=num, column=1).value) + ' ' + str(worksheet.cell(row=num, column=2).value))\n",
    "            else:\n",
    "                print('Voucher found for ' + str(worksheet.cell(row=num, column=1).value) + ' ' + str(worksheet.cell(row=num, column=2).value))\n",
    "                worksheet.cell(row=num, column=4).value = 1\n",
    "                print('Remaining vouchers: ' + (str(Counter(values)[0] - 1)))\n",
    "            print()\n",
    "    workbook.save('Penghuni RTB New.xlsx')\n",
    "    workbook.close()"
   ]
  }
 ],
 "metadata": {
  "kernelspec": {
   "display_name": "Python 3",
   "language": "python",
   "name": "python3"
  },
  "language_info": {
   "codemirror_mode": {
    "name": "ipython",
    "version": 3
   },
   "file_extension": ".py",
   "mimetype": "text/x-python",
   "name": "python",
   "nbconvert_exporter": "python",
   "pygments_lexer": "ipython3",
   "version": "3.12.1"
  }
 },
 "nbformat": 4,
 "nbformat_minor": 2
}
