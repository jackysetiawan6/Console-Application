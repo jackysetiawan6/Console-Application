{
 "cells": [
  {
   "cell_type": "markdown",
   "metadata": {},
   "source": [
    "# ***Prerequisites***"
   ]
  },
  {
   "cell_type": "code",
   "execution_count": 22,
   "metadata": {},
   "outputs": [],
   "source": [
    "# # Create the conda environment\n",
    "# %conda create -n bio_python python=3.7.6\n",
    "\n",
    "# # Activate the environment\n",
    "# %conda activate bio_python\n",
    "\n",
    "# # Install the required packages\n",
    "# %conda install -n bio_python biopython\n",
    "\n",
    "# # Verify the installation\n",
    "# %conda list -n bio_python"
   ]
  },
  {
   "cell_type": "markdown",
   "metadata": {},
   "source": [
    "# ***Session 01***"
   ]
  },
  {
   "cell_type": "markdown",
   "metadata": {},
   "source": [
    "# ***Session 02***"
   ]
  },
  {
   "cell_type": "markdown",
   "metadata": {},
   "source": [
    "# ***Session 03***"
   ]
  },
  {
   "cell_type": "markdown",
   "metadata": {},
   "source": [
    "# ***Session 04***"
   ]
  },
  {
   "cell_type": "markdown",
   "metadata": {},
   "source": [
    "# ***Session 05***"
   ]
  },
  {
   "cell_type": "markdown",
   "metadata": {},
   "source": [
    "# ***Session 06***"
   ]
  },
  {
   "cell_type": "markdown",
   "metadata": {},
   "source": [
    "# ***Practice UAP***"
   ]
  },
  {
   "cell_type": "code",
   "execution_count": 48,
   "metadata": {},
   "outputs": [],
   "source": [
    "from Bio import SeqIO, pairwise2\n",
    "from Bio.SeqUtils import molecular_weight, GC\n",
    "from collections import Counter\n",
    "from Levenshtein import distance\n",
    "from matplotlib import pyplot\n",
    "import seaborn"
   ]
  },
  {
   "cell_type": "code",
   "execution_count": 52,
   "metadata": {},
   "outputs": [
    {
     "name": "stdout",
     "output_type": "stream",
     "text": [
      "ID: AB292765.1\n",
      "Name: AB292765.1\n",
      "Description: AB292765.1 Vulpes vulpes mitochondrial genes for cytochrome b, tRNA-Thr, tRNA-Pro, D-loop, complete cds, complete and partial sequence, isolate: C14-D18_1\n",
      "Number of features: 0\n",
      "Seq('ATGACCAACATTCGAAAGACTCACCCACTAGCTAAAATCGTCAACGACTCATTC...ATC')\n",
      "\n",
      "1671\n",
      "\n"
     ]
    },
    {
     "data": {
      "image/png": "[encoded data removed]",
      "text/plain": [
       "<Figure size 640x480 with 1 Axes>"
      ]
     },
     "metadata": {},
     "output_type": "display_data"
    },
    {
     "name": "stdout",
     "output_type": "stream",
     "text": [
      "GC content: 42.73%\n",
      "AT content: 57.27%\n",
      "\n",
      "Molecular Weight: 511916.0529000028\n",
      "AUGACCAACAUUCGAAAGACUCACCCACUAGCUAAAAUCGUCAACGACUCAUUCAUCGACCUUCCCGCACCAUCAAAUAUUUCUGCCUGAUGGAACUUCGGGUCCCUGCUGGGUGUAUGCCUUAUUCUACAGAUUGCAACAGGUCUAUUUCUAGCCAUACACUAUACAUCCGACACAGCUACUGCUUUUUCAUCAGUCACUCAUAUCUGCCGAGACGUUAACUAUGGCUGAAUUAUCCGUUACAUACAUGCAAACGGAGCAUCUAUAUUUUUUAUCUGCCUCUUCAUGCACGUAGGACGAGGCCUAUACUAUGGAUCUUAUGUAUUCAUAGAAACAUGAAAUAUCGGAAUUAUCUUAUUGUUCGCAACCAUGGCCACAGCAUUUAUGGGCUACGUUUUACCAUGAGGACAAAUAUCAUUCUGAGGGGCAACCGUAAUUACAAAUCUUCUAUCUGCUAUCCCCUAUAUCGGAACCGAUCUAGUAGAAUGAAUUUGAGGGGGCUUCUCAGUAGACAAAGCAACCCUAACACGAUUCUUUGCAUUCCACUUUAUCCUUCCAUUCAUCAUCGCAGCAUUAGCGAUAGUCCAUCUCUUAUUUCUCCACGAAACAGGAUCCAACAACCCUUCAGGAAUCACAUCCGACUCAGACAAAAUUCCAUUUCACCCCUACUACACAGUUAAAGACAUCCUAGGAGUCUUACUUCUCCUUUCAGUUCUAAUAUCGCUAGUCCUAUUCUCACCAGAUCUUUUAGGAGACCCAGACAAUUACACCCCCGCAAACCCCCUCAGCACUCCCCCACAUAUCAAACCCGAGUGAUAUUUCCUAUUUGCCUAUGCUAUUCUCCGGUCCAUCCCUAAUAAACUAGGAGGAGUCCUAGCCCUAGUGUUCUCAAUCCUAAUCCUAGCACUCAUCCCUCACCUACACACCUCAAAACAACGUGGGAUAAUAUUCCGACCCCUUAGUCAAUGCCUAUUCUGACUUCUAACCGCAGACCUCCUCACCUUAACUUGAAUCGGAGGGCAGCCGGUAGAACACCCCUUUAUUAUCAUUGGCCAAAUUGCCUCCAUCCUGUAUUUUGCUAUCUUAUUGAUUCUAAUGCCAACCAUUAGCAUUAUCGAAAACAAUCUCCUAAAAUGAAGAGUCUUCGUAGUAUAUUAAUUACAUUGGUCUUGUAAACCAAAAAUGGAGAUUAAUAAUUCUCCCCAAGACUCAAGGAAGAGGCACAUGCCCCACCGUCAGCACCCAAAGCUGAAAUUCUUUUUAAACUAUUCCCUGACGCCCGUAUAACCAGUGUGUUACGACUAUCCCGCGCCCCCAAAACUUGCCCUAUGUACGUCGUGCAUUACUGCUAUGCCCCAUGCAUAUUAAGCAUGUACAUAUAUUUAUAUAAUUACAUAAGACAUACUAUGUUUAAUCUUACAAUAAUCUCUAUCAGGGACAUACAUAACUGCACGUCACUUAGUCCAAUAAGGGAUUUAUCACCAUGCCUCGAGAAACCAUCAAUCCUUGCUUGAAGUAUCCCUCUUCUCGCUCCGGGCCCAUAUCAACGUGGGGGUUUCUAUCAUGGAACUAUACCUGGCAUCUGGUUCUUACCUCAGGGCCAUUUCGCUUGUUCACUCCAAUCCUACUAAUCCUCUCAAAUGGGACAUCUCGAUGGACUAAUGACUAAUC\n",
      "\n",
      "MTNIRKTHPLAKIVNDSFIDLPAPSNISA*WNFGSLLGVCLILQIATGLFLAIHYTSDTATAFSSVTHICRDVNYG*IIRYIHANGASIFFICLFMHVGRGLYYGSYVFIET*NIGIILLFATMATAFMGYVLP*GQISF*GATVITNLLSAIPYIGTDLVE*I*GGFSVDKATLTRFFAFHFILPFIIAALAIVHLLFLHETGSNNPSGITSDSDKIPFHPYYTVKDILGVLLLLSVLISLVLFSPDLLGDPDNYTPANPLSTPPHIKPE*YFLFAYAILRSIPNKLGGVLALVFSILILALIPHLHTSKQRGIIFRPLSQCLF*LLTADLLTLT*IGGQPVEHPFIIIGQIASILYFAILLILMPTISIIENNLLK*RVFVVY*LHWSCKPKMEINNSPQDSRKRHMPHRQHPKLKFFLNYSLTPV*PVCYDYPAPPKLALCTSCITAMPHAY*ACTYIYIIT*DILCLILQ*SLSGTYITARHLVQ*GIYHHASRNHQSLLEVSLFSLRAHINVGVSIMELYLASGSYLRAISLVHSNPTNPLKWDISMD**LI\n",
      "\n",
      "Local Alignment Score: 13.0\n",
      "\n",
      "Levenshtein Distance: 1651\n"
     ]
    }
   ],
   "source": [
    "# 1. Insert sequence from fasta file\n",
    "record = SeqIO.read(\"vulpes_vulpes.fasta\", \"fasta\")\n",
    "\n",
    "# 2. show record from fasta file\n",
    "print(record, end=\"\\n\\n\")\n",
    "\n",
    "# 3. find and display the length of sequence from fasta file\n",
    "print(len(record.seq), end=\"\\n\\n\")\n",
    "\n",
    "# 4. calculate (A,C,G,T) frequence from sequence using chart from matplotlib\n",
    "frequency = Counter(record.seq)\n",
    "seaborn.barplot(x=list(frequency.keys()), y=list(frequency.values()))\n",
    "pyplot.show()\n",
    "\n",
    "# 5. determine and display GC & AT content percentage for sequence from fasta file\n",
    "GC_count = GC(record.seq)\n",
    "AT_count = 100 - GC_count\n",
    "print(f\"GC content: {GC_count:.2f}%\")\n",
    "print(f\"AT content: {AT_count:.2f}%\", end=\"\\n\\n\")\n",
    "\n",
    "# 6. determine and display the molecular weight\n",
    "weight = float(molecular_weight(record.seq))\n",
    "print(f\"Molecular Weight: {weight}\")\n",
    "\n",
    "# 7. transcribe sequence from fasta file then display\n",
    "print(record.seq.transcribe(), end=\"\\n\\n\")\n",
    "\n",
    "# 8. translate sequence from fasta file then display\n",
    "print(record.seq.translate(), end=\"\\n\\n\")\n",
    "\n",
    "# 9. perform local alignment pairwise between sequence 20 first nucleotides from the sequence we get from fasta file with \"ACTGCGTACGACGATCGTAG\"\n",
    "sequence_fasta = record.seq[:20]\n",
    "target_sequence = \"ACTGCGTACGACGATCGTAG\"\n",
    "alignments = pairwise2.align.localxx(sequence_fasta, target_sequence, score_only=True)\n",
    "print(f\"Local Alignment Score: {alignments}\", end=\"\\n\\n\")\n",
    "\n",
    "# 10. find the levenstein distance between sequence from fasta file with \"GATCGATCGATGATACGATA\"\n",
    "sequence_fasta = record.seq\n",
    "target_sequence = \"GATCGATCGATGATACGATA\"\n",
    "levenshtein_distance = distance(sequence_fasta, target_sequence)\n",
    "print(f\"Levenshtein Distance: {levenshtein_distance}\")\n"
   ]
  }
 ],
 "metadata": {
  "kernelspec": {
   "display_name": "Python 3",
   "language": "python",
   "name": "python3"
  },
  "language_info": {
   "codemirror_mode": {
    "name": "ipython",
    "version": 3
   },
   "file_extension": ".py",
   "mimetype": "text/x-python",
   "name": "python",
   "nbconvert_exporter": "python",
   "pygments_lexer": "ipython3",
   "version": "3.7.6"
  }
 },
 "nbformat": 4,
 "nbformat_minor": 2
}
