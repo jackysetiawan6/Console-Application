{
 "cells": [
  {
   "cell_type": "markdown",
   "metadata": {},
   "source": [
    "# ***Prerequisites***"
   ]
  },
  {
   "cell_type": "code",
   "execution_count": null,
   "metadata": {},
   "outputs": [],
   "source": [
    "# # Create the conda environment\n",
    "# %conda create -n bio_python python=3.7.6\n",
    "\n",
    "# # Activate the environment\n",
    "# %conda activate bio_python\n",
    "\n",
    "# # Install the required packages\n",
    "# %conda install -n bio_python biopython\n",
    "\n",
    "# # Verify the installation\n",
    "# %conda list -n bio_python"
   ]
  },
  {
   "cell_type": "markdown",
   "metadata": {},
   "source": [
    "# ***Practice UAP 1***"
   ]
  },
  {
   "cell_type": "code",
   "execution_count": null,
   "metadata": {},
   "outputs": [],
   "source": [
    "from Bio import SeqIO, pairwise2\n",
    "from Bio.SeqUtils import molecular_weight, GC\n",
    "from collections import Counter\n",
    "from Levenshtein import distance\n",
    "from matplotlib import pyplot\n",
    "import seaborn"
   ]
  },
  {
   "cell_type": "code",
   "execution_count": null,
   "metadata": {},
   "outputs": [],
   "source": [
    "# 1. Insert sequence from fasta file\n",
    "record = SeqIO.read(\"vulpes_vulpes.fasta\", \"fasta\")\n",
    "\n",
    "# 2. show record from fasta file\n",
    "print(record, end=\"\\n\\n\")\n",
    "\n",
    "# 3. find and display the length of sequence from fasta file\n",
    "print(len(record.seq), end=\"\\n\\n\")\n",
    "\n",
    "# 4. calculate (A,C,G,T) frequence from sequence using chart from matplotlib\n",
    "frequency = Counter(record.seq)\n",
    "seaborn.barplot(x=list(frequency.keys()), y=list(frequency.values()))\n",
    "pyplot.show()\n",
    "\n",
    "# 5. determine and display GC & AT content percentage for sequence from fasta file\n",
    "GC_count = GC(record.seq)\n",
    "AT_count = 100 - GC_count\n",
    "print(f\"GC content: {GC_count:.2f}%\")\n",
    "print(f\"AT content: {AT_count:.2f}%\", end=\"\\n\\n\")\n",
    "\n",
    "# 6. determine and display the molecular weight\n",
    "weight = float(molecular_weight(record.seq))\n",
    "print(f\"Molecular Weight: {weight}\")\n",
    "\n",
    "# 7. transcribe sequence from fasta file then display\n",
    "print(record.seq.transcribe(), end=\"\\n\\n\")\n",
    "\n",
    "# 8. translate sequence from fasta file then display\n",
    "print(record.seq.translate(), end=\"\\n\\n\")\n",
    "\n",
    "# 9. perform local alignment pairwise between sequence 20 first nucleotides from the sequence we get from fasta file with \"ACTGCGTACGACGATCGTAG\"\n",
    "sequence_fasta = record.seq[:20]\n",
    "target_sequence = \"ACTGCGTACGACGATCGTAG\"\n",
    "alignments = pairwise2.align.localxx(sequence_fasta, target_sequence, score_only=True)\n",
    "print(f\"Local Alignment Score: {alignments}\", end=\"\\n\\n\")\n",
    "\n",
    "# 10. find the levenstein distance between sequence from fasta file with \"GATCGATCGATGATACGATA\"\n",
    "sequence_fasta = record.seq\n",
    "target_sequence = \"GATCGATCGATGATACGATA\"\n",
    "levenshtein_distance = distance(sequence_fasta, target_sequence)\n",
    "print(f\"Levenshtein Distance: {levenshtein_distance}\")\n"
   ]
  },
  {
   "cell_type": "markdown",
   "metadata": {},
   "source": [
    "# ***Practice UAP 2***"
   ]
  },
  {
   "cell_type": "code",
   "execution_count": null,
   "metadata": {},
   "outputs": [],
   "source": [
    "import seaborn as sns\n",
    "import matplotlib.pyplot as plt\n",
    "from Bio import SeqIO, pairwise2\n",
    "from Bio.SeqUtils import GC, molecular_weight, nt_search, MeltingTemp as mt\n",
    "from collections import Counter\n",
    "from Levenshtein import distance"
   ]
  },
  {
   "cell_type": "code",
   "execution_count": null,
   "metadata": {},
   "outputs": [],
   "source": [
    "# 1. Read the sequence from a.fasta and store it as SeqA\n",
    "SeqA = SeqIO.read(\"poeciliopsis_prolifica.fasta\", \"fasta\").seq\n",
    "\n",
    "# 2. Show the length of SeqA\n",
    "print(len(SeqA), end='\\n\\n')\n",
    "\n",
    "# 3. Show the complement of SeqA\n",
    "print(SeqA.complement(), end='\\n\\n')\n",
    "\n",
    "# 4. Show the transcribe of SeqA\n",
    "print(SeqA.transcribe(), end='\\n\\n')\n",
    "\n",
    "# 5. Show the translate of SeqA\n",
    "print(SeqA.translate(), end='\\n\\n')\n",
    "\n",
    "# 6. Show the 5th until 40th nucleotide from SeqA\n",
    "print(SeqA[4:40], end='\\n\\n')\n",
    "\n",
    "# 7. Search all the occurence of \"AATC\" from SeqA\n",
    "print(nt_search(str(SeqA), \"AATC\"), end='\\n\\n')\n",
    "\n",
    "# 8. Show the GC content from SeqA\n",
    "print(GC(SeqA), end='\\n\\n')\n",
    "\n",
    "# 9. Show the AT content from SeqA\n",
    "print(100 - GC(SeqA), end='\\n\\n')\n",
    "\n",
    "# 10. Show the plot of frequency of each nucleotide from SeqA\n",
    "frequency = Counter(SeqA)\n",
    "plt.figure(figsize=(10, 5))\n",
    "sns.barplot(x=list(frequency.keys()), y=list(frequency.values()))\n",
    "plt.show()\n",
    "\n",
    "# 11. Show the melting point of SeqA using Tm_Wallace, Tm_GC, and Tm_nn\n",
    "print(f\"Melting Point (Tm_Wallace): {mt.Tm_Wallace(SeqA):.2f}°C\")\n",
    "print(f\"Melting Point (Tm_GC)     : {mt.Tm_GC(SeqA):.2f}°C\")\n",
    "print(f\"Melting Point (Tm_NN)     : {mt.Tm_NN(SeqA):.2f}°C\", end='\\n\\n')\n",
    "\n",
    "# 12. Show the molecular weight of SeqA\n",
    "weight = molecular_weight(SeqA)\n",
    "print(f\"Molecular Weight: {weight:.2f} g/mol\", end='\\n\\n')\n",
    "\n",
    "# 13. Perform global alignment between SeqA and given sequence\n",
    "sequence = \"CGTAGCTAGCGACTAGTCGACAGCGATCGATGATATGCATGATGATGTATATAATGTGCAGTCGATGCTGATGCATTCTGGCGTCTGACGCTAGCTAGGCTAGCTAGCAGCTAGCTGATCGATGCGATGCTAGTACTGAGTCGACGATGCTAGCTA\"\n",
    "alignment = pairwise2.align.globalxx(SeqA, sequence, score_only=True) # no parameter for match and mismatch\n",
    "print(f\"Global Alignment Score: {alignment}\", end='\\n\\n')\n",
    "alignment = pairwise2.align.globalmx(SeqA, sequence, 0.5, -1, score_only=True) # with parameter for match (0.5) and mismatch (-1)\n",
    "print(f\"Global Alignment Score: {alignment}\", end='\\n\\n')\n",
    "alignment = pairwise2.align.globalms(SeqA, sequence, 0.5, -1, -0.3, -0.1, score_only=True) # with parameter for match (0.5), mismatch (-1), open gap (-0.3), and extend gap (-0.1)\n",
    "print(f\"Global Alignment Score: {alignment}\", end='\\n\\n')\n",
    "\n",
    "# 14. Find the Hamming distance between SeqA and given sequence\n",
    "sequence = \"AGCTGATCGTACGTAGGACGTAGTCGATATCTACATGAGCGCGGCGCATATATATATGCGATCGTAGCTGACGATCATCATCGTAGCTAGTCGATGCTAGCTGATCGCCCCCGGGGGGGGATATATTATATAGGTATAAAAAATGTGTGTTGGTTTTTTTTTTTTTTTTCAGTCGTAGCTGATCGATGCGATGCTAGTCGTAGCTGATCGATCGTAGCTGATCGTAACGACGTCCAGAGTTTTTTCTTTAGCAAACAGATTTATTACAAACGGTGAAAAATGCAGAGGCAACTTAAAGCCCATTCCAGTAAAAAACATTCAGGCTTTGGAGAATCGGAGAAAGTCCACCTGGATGTCAACCTGAAGAAACATTTGGAAAACTTGGAGTCAGTTTTCAGCTTTTTAAGCCCTTTATTTTTTGCCTCTTATTTGTATGTTTCTTTTCTCAACGAAAAATGTTTTAATTTTAGCACAATCAACGTAAACCTGACGGTCTAATTTCATCTGAGTGATAGCTAGAATTAGTGTGCCATTGGTTGTTTGTTTTCATTTTGTAGATTTACTACATTGAGTGTGCGAATGTGTCATGAATTTCGTTTAAAGTTTGCATATTCCAGTAGCAAATTAAATGTTTATAAAAAATAAGTTTTGTTTTGGATCTGAAGTGCATGATATTGCATATTGTTAATGAACTTACAGACTTCTTCTTGTGGCGTAGCGATCGTAGCTGATGCTGATCGATGCTAGTCGATGCGATCGTAGCTGATGCTAGCTGATCGTAGCTAGCTAGCTAGTCGTGTGCTGTCGTGTGTGATCATCGATGCTAGCGATCGAGCTAGCTGATCGAGCTAGTCGATCGTAGCTAGTCGATGCTAGCTGATCGTAGCTGATCGTATATTTATATATATGCGCTACTAGCTTGACGATCATGCTAGTGTGTGTCGTAGCTGATGCGCGCGCGTATATATATAATTTTTTTTAAAGTCGATGCCCCCCCCGGGGGAGATGTCAGCTGATCGATGCTAGGATATGCTGATCGTAGCTGACGATGCTGATGCTAGGGCGCCCGGGATTATATATTTTTAAAGGCTACGTACGGGCGCGCGGGGCGAGCTGAGGGGCGCGCGGTATATATTATAGCTGTAGCTAGCTGAGCTAGCTGGGGATAAAAAATTTTTTATGCTAGCTGATCGATGCATCGCGAGA\"\n",
    "hamming_distance = sum(1 for a, b in zip(SeqA, sequence) if a != b)\n",
    "print(f\"Hamming Distance: {hamming_distance}\", end='\\n\\n')\n",
    "\n",
    "# 15. Find the Levenshtein distance between SeqA and given sequence\n",
    "sequence = \"TAGAGGCAATGTTATATGAGAATCCTCCAAATGTCCTCCGACATAAATAGCCGGCTCCACCTGTTTGCCTGCACCTGACGTAGCGCCAACTGTCCTCTACCATGGGGGGGCTGCATATCGCACAGCTGTGCGGGTAGAAACTCACATTCCATGGCGATTAGTCGCCGGTGCAGCACATGGGAGCTAATTCGGCATGTGCCCCCAAGCGGGCAGGATAAGGACGCAAGCAATAATGATTGAATGCATAGGACGATGCACACTCGGATGAAGTCTGTCACCTTGGTGCGTTGTATACTCACTCTTTGCCGTGCCGGCAAAATCGGTAAAGGAAGAAGGGTGGTAGCGTCGTTGGGAGGCTCGAAAGCATAAAGTATAGATGCCCTGTAGCACCGTATGCTAGACAGGTTCTAGAGCCCTACCTGTATGAAACCCTTGAACCGCTATCGAGCACGTGTCAAACCCCACCAGATCGTGGAATCCCGCGAGGCGTCATCTATGTACTGTGCTATATCCCCCTTGGCGACCCAGTGATGCCAGGGGCTTGCGTCAAACCAAGTTGGTAGTATCTATCGACATGATAGAATCCATCGTCTAGGATTACGTAAGCCGCAAGCACTCGATCAGGCGCTAGAGCCATTCACATATATATAAGCTCTCGATCTAAGAAGCGTCATCGATCCCTCTAGGATGCCAAGCTTGTGGTTGATCGACATATACAGCTATAAGTCAACGGGCCTTCCACCCGCGTTTTTCTCGCTAGTGATTGCCACACGAGTATACCAAGAGCAAGCATAAGCGTACCGTACCCCGCAGAACAGTAAAACTCCGGGCTCCGAA\"\n",
    "levenshtein_distance = distance(SeqA, sequence)\n",
    "print(f\"Levenshtein Distance: {levenshtein_distance}\", end='\\n\\n')"
   ]
  },
  {
   "cell_type": "markdown",
   "metadata": {},
   "source": [
    "# ***Final Practicum***"
   ]
  },
  {
   "cell_type": "markdown",
   "metadata": {},
   "source": [
    "***0. Required Libraries***"
   ]
  },
  {
   "cell_type": "code",
   "execution_count": null,
   "metadata": {},
   "outputs": [],
   "source": [
    "from Bio import SeqIO, pairwise2\n",
    "from Bio.Seq import Seq\n",
    "from Bio.SeqUtils import MeltingTemp, molecular_weight, GC\n",
    "from collections import Counter\n",
    "from matplotlib import pyplot\n",
    "from Levenshtein import distance"
   ]
  },
  {
   "cell_type": "markdown",
   "metadata": {},
   "source": [
    "***1. Sequence Manipulation***"
   ]
  },
  {
   "cell_type": "code",
   "execution_count": null,
   "metadata": {},
   "outputs": [],
   "source": [
    "sequence_a = SeqIO.read('a.fasta', 'fasta').seq\n",
    "sequence_b = SeqIO.read('b.fasta', 'fasta').seq\n",
    "\n",
    "sequence_a = Seq(''.join([char for char in sequence_a if char in 'AGCT']))\n",
    "sequence_b = Seq(''.join([char for char in sequence_b if char in 'AGCT']))\n",
    "\n",
    "print(f'Length of sequence_a               : {len(sequence_a)} nucleotides')\n",
    "print(f'Length of sequence_b               : {len(sequence_b)} nucleotides')\n",
    "print(f'Length of sequence_a and sequence_b: {len(sequence_a) + len(sequence_b)} nucleotides')\n",
    "\n",
    "print(f\"First index of 'ACG' in sequence_a : {sequence_a.find('ACG')}\")\n",
    "print(f\"First index of 'ACG' in sequence_b : {sequence_b.find('ACG')}\")\n",
    "\n",
    "sequence_c = sequence_a[:23] + sequence_b[-9:]\n",
    "print(f'Sequence C                         : {sequence_c}')\n",
    "print(f'Length of sequence_c               : {len(sequence_c)} nucleotides')"
   ]
  },
  {
   "cell_type": "markdown",
   "metadata": {},
   "source": [
    "***2. Sequence Analysis and Plotting***"
   ]
  },
  {
   "cell_type": "code",
   "execution_count": null,
   "metadata": {},
   "outputs": [],
   "source": [
    "sequences = [sequence_a, sequence_b, sequence_c]\n",
    "names = ['Sequence A', 'Sequence B', 'Sequence C']\n",
    "\n",
    "for sequence in sequences:\n",
    "    sequence_name = names[sequences.index(str(sequence))]\n",
    "    print(f'======== {sequence_name} ========')\n",
    "    print(f'GC content         : {GC(sequence):.2f}%')\n",
    "    print(f'AT content         : {100 - GC(sequence):.2f}%')\n",
    "    print(f'Melting temperature: {MeltingTemp.Tm_GC(sequence):.2f}°C')\n",
    "    print(f'Molecular weight   : {molecular_weight(sequence):.2f} mol')\n",
    "    frequencies = Counter(sequence)\n",
    "    pyplot.figure(figsize=(6, 3))\n",
    "    pyplot.bar(frequencies.keys(), frequencies.values())\n",
    "    pyplot.title(sequence_name)\n",
    "    pyplot.xlabel('Nucleotide')\n",
    "    pyplot.ylabel('Frequency')\n",
    "    pyplot.show()"
   ]
  },
  {
   "cell_type": "markdown",
   "metadata": {},
   "source": [
    "***3. DNA and mRNA Protein Synthesis***"
   ]
  },
  {
   "cell_type": "code",
   "execution_count": null,
   "metadata": {},
   "outputs": [],
   "source": [
    "sequences = [sequence_a, sequence_b, sequence_c]\n",
    "names = ['Sequence A', 'Sequence B', 'Sequence C']\n",
    "\n",
    "for sequence in sequences:\n",
    "    sequence_name = names[sequences.index(str(sequence))]\n",
    "    print(f'======== {sequence_name} ========')\n",
    "    print(f'Transcribed sequence: {sequence.transcribe()}')\n",
    "    print(f'Translated sequence : {sequence.translate()}')\n",
    "    print()"
   ]
  },
  {
   "cell_type": "markdown",
   "metadata": {},
   "source": [
    "***4. Sequence Alignment and Similarities***"
   ]
  },
  {
   "cell_type": "code",
   "execution_count": null,
   "metadata": {},
   "outputs": [],
   "source": [
    "sequence_new_1 = Seq('AGCTATCGATGCTAGCTAGACGT')\n",
    "alignment_1 = pairwise2.align.localxx(sequence_a, sequence_new_1, score_only=True)\n",
    "print(f'Alignment score to new sequence 1                : {alignment_1}')\n",
    "\n",
    "sequence_new_2 = Seq('GTGCATGCATGCTAGTCAGCTATCGT')\n",
    "alignment_2 = pairwise2.align.localxx(sequence_b, sequence_new_2, score_only=True)\n",
    "print(f'Alignment score to new sequence 2                : {alignment_2}')\n",
    "\n",
    "distance_levenshtein = distance(sequence_a, sequence_b)\n",
    "print(f'Levenshtein distance of sequence_a and sequence_b: {distance_levenshtein}')"
   ]
  }
 ],
 "metadata": {
  "kernelspec": {
   "display_name": "Python 3",
   "language": "python",
   "name": "python3"
  },
  "language_info": {
   "codemirror_mode": {
    "name": "ipython",
    "version": 3
   },
   "file_extension": ".py",
   "mimetype": "text/x-python",
   "name": "python",
   "nbconvert_exporter": "python",
   "pygments_lexer": "ipython3",
   "version": "3.7.6"
  }
 },
 "nbformat": 4,
 "nbformat_minor": 2
}
