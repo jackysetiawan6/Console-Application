{
 "cells": [
  {
   "cell_type": "code",
   "execution_count": null,
   "metadata": {},
   "outputs": [],
   "source": [
    "import pandas as pd\n",
    "import matplotlib.pyplot as plt\n",
    "import matplotlib.ticker as ticker\n",
    "import numpy as np\n",
    "import seaborn as sns"
   ]
  },
  {
   "cell_type": "code",
   "execution_count": null,
   "metadata": {},
   "outputs": [],
   "source": [
    "dataset = pd.read_excel('regina.xlsx', sheet_name='data')\n",
    "\n",
    "fig, axis = plt.subplots(3, 6, figsize=(30, 12))\n",
    "axis = axis.flatten()\n",
    "\n",
    "for i, ax in enumerate(axis[:-1]):\n",
    "    sns.barplot(data=dataset.iloc[i, 2:], ax=ax, color='blue')\n",
    "    ax.set_xlabel('Year')\n",
    "    ax.set_ylabel('Closing Price (IDR)')\n",
    "    ax.set_title(dataset['Code'][i])\n",
    "    ax.bar_label(ax.containers[0], fmt='%.2f')\n",
    "    ax.yaxis.set_major_formatter(ticker.FuncFormatter(lambda x, pos: '{:,.0f}'.format(x)))\n",
    "    ax.set_ylim(top=ax.get_ylim()[1] + 0.05 * (ax.get_ylim()[1] - ax.get_ylim()[0]))\n",
    "    ax.grid(axis='y', linestyle='--', alpha=0.7)\n",
    "\n",
    "fig.delaxes(axis[-1])\n",
    "plt.suptitle('Closing Price of Stocks in Indonesia (2018-2022)', fontsize=18)\n",
    "\n",
    "plt.tight_layout()\n",
    "plt.show()"
   ]
  },
  {
   "cell_type": "code",
   "execution_count": null,
   "metadata": {},
   "outputs": [],
   "source": [
    "dataset = pd.read_excel('regina.xlsx', sheet_name='data')\n",
    "\n",
    "plt.figure(figsize=(25, 12))\n",
    "for i in range(17):\n",
    "    plt.plot(dataset.columns[2:], dataset.iloc[i, 2:], label=dataset['Code'][i], marker='o')\n",
    "plt.xlabel('Year')\n",
    "plt.ylabel('Closing Price (IDR)')\n",
    "plt.title('Closing Price of Stocks in Indonesia (2018-2022)', fontsize=18)\n",
    "plt.legend(loc='upper left')\n",
    "plt.grid(linestyle='--', alpha=0.7)\n",
    "plt.gca().xaxis.set_major_formatter(ticker.FuncFormatter(lambda x, pos: '{:.0f}'.format(x)))\n",
    "\n",
    "plt.show()"
   ]
  },
  {
   "cell_type": "code",
   "execution_count": null,
   "metadata": {},
   "outputs": [],
   "source": [
    "import pandas as pd\n",
    "import os\n",
    "import shutil\n",
    "import tkinter.messagebox as messagebox\n",
    "\n",
    "target = input('Masukkan nama folder: ')\n",
    "source_address = os.path.join('Z:/MUTASI REKENING/TARGET MINGGUAN/', target)\n",
    "target_address = 'C:/Users/u079408/Documents/2024'\n",
    "\n",
    "dataset = pd.read_excel('data.xlsx', header=None)\n",
    "\n",
    "try:\n",
    "    os.makedirs(os.path.join(target_address, target), exist_ok=True)\n",
    "    for row in dataset.iterrows():\n",
    "        for file in os.listdir(source_address):\n",
    "            if row[1][0] in file:\n",
    "                shutil.copy(os.path.join(source_address, file), os.path.join(target_address, file))\n",
    "    messagebox.showinfo('Pop-up', 'Files successfully copied!')\n",
    "except Exception as e:\n",
    "    print(e)"
   ]
  }
 ],
 "metadata": {
  "kernelspec": {
   "display_name": "Python 3",
   "language": "python",
   "name": "python3"
  },
  "language_info": {
   "codemirror_mode": {
    "name": "ipython",
    "version": 3
   },
   "file_extension": ".py",
   "mimetype": "text/x-python",
   "name": "python",
   "nbconvert_exporter": "python",
   "pygments_lexer": "ipython3",
   "version": "3.12.4"
  }
 },
 "nbformat": 4,
 "nbformat_minor": 2
}
