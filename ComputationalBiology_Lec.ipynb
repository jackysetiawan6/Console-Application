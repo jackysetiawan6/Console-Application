{
 "cells": [
  {
   "cell_type": "markdown",
   "metadata": {},
   "source": [
    "# ***ASSIGNMENT 2 - Jacky Setiawan 2602190444***"
   ]
  },
  {
   "cell_type": "markdown",
   "metadata": {},
   "source": [
    "***Importing libraries and setting up***"
   ]
  },
  {
   "cell_type": "code",
   "execution_count": 1,
   "metadata": {},
   "outputs": [],
   "source": [
    "from Bio import Entrez\n",
    "from colorama import Fore\n",
    "import random\n",
    "Entrez.email = 'learnbiopython@gmail.com'"
   ]
  },
  {
   "cell_type": "markdown",
   "metadata": {},
   "source": [
    "***Preparing the data and making it unique***"
   ]
  },
  {
   "cell_type": "code",
   "execution_count": 2,
   "metadata": {},
   "outputs": [],
   "source": [
    "term = ['Bos gaurus', 'Antelope cervicapra', 'Gazella bennettii', 'Boselaphus tragocamelus', 'Canis lupus', 'Panthera leo',\n",
    "        'Elephas maximus', 'Equus africanus', 'Panthera pardus', 'Cervus canadensis', 'Pavo cristatus', 'Grus leucogeranus',\n",
    "        'Vulpes vulpes', 'Rhinoceros unicornis', 'Panthera Tigris', 'Crocodylus palustris', 'Gavialis gangeticus',\n",
    "        'Equus caballus', 'Equus quagga', 'Babalus bubalis', 'Sus scrofa', 'Camelus dromedaries', 'Giraffa camelopardalis ',\n",
    "        'Hemidactylus flaviviridis', 'Hippopotamus amphibius', 'Macaca mulatta', 'Canis lupus', 'Felis domesticus',\n",
    "        'Acinonyx jubatus', 'Rattus rattus', 'Mus musculus', 'Oryctolagus cuniculus', 'Bubo virginianus', 'Passer domesticus',\n",
    "        'Corvus splendens', 'Acridotheres tristis', 'Psittacula eupatria', 'Molpastes cafer', 'Eudynamis scolopaccus',\n",
    "        'Columba livia', 'Naja naja', 'Ophiophagus hannah', 'Hydrophiinae ', 'Python molurus', 'Ptyas mucosa']\n",
    "term = list(set(term))\n",
    "term.sort()"
   ]
  },
  {
   "cell_type": "markdown",
   "metadata": {},
   "source": [
    "***Checking for incorrect query name with the spelling***"
   ]
  },
  {
   "cell_type": "code",
   "execution_count": 3,
   "metadata": {},
   "outputs": [
    {
     "name": "stdout",
     "output_type": "stream",
     "text": [
      "\u001b[32mQuery: Acinonyx jubatus               CorrectedQuery: acinonyx jubatus               IsCorrect: True\n",
      "\u001b[39m\u001b[32mQuery: Acridotheres tristis           CorrectedQuery: acridotheres tristis           IsCorrect: True\n",
      "\u001b[39m\u001b[32mQuery: Antelope cervicapra            CorrectedQuery: antelope cervicapra            IsCorrect: True\n",
      "\u001b[39m\u001b[31mQuery: Babalus bubalis                CorrectedQuery: bubalus bubalis                IsCorrect: False\n",
      "\u001b[39m\u001b[32mQuery: Bos gaurus                     CorrectedQuery: bos gaurus                     IsCorrect: True\n",
      "\u001b[39m\u001b[32mQuery: Boselaphus tragocamelus        CorrectedQuery: boselaphus tragocamelus        IsCorrect: True\n",
      "\u001b[39m\u001b[32mQuery: Bubo virginianus               CorrectedQuery: bubo virginianus               IsCorrect: True\n",
      "\u001b[39m\u001b[32mQuery: Camelus dromedaries            CorrectedQuery: camelus dromedaries            IsCorrect: True\n",
      "\u001b[39m\u001b[32mQuery: Canis lupus                    CorrectedQuery: canis lupus                    IsCorrect: True\n",
      "\u001b[39m\u001b[32mQuery: Cervus canadensis              CorrectedQuery: cervus canadensis              IsCorrect: True\n",
      "\u001b[39m\u001b[32mQuery: Columba livia                  CorrectedQuery: columba livia                  IsCorrect: True\n",
      "\u001b[39m\u001b[32mQuery: Corvus splendens               CorrectedQuery: corvus splendens               IsCorrect: True\n",
      "\u001b[39m\u001b[32mQuery: Crocodylus palustris           CorrectedQuery: crocodylus palustris           IsCorrect: True\n",
      "\u001b[39m\u001b[32mQuery: Elephas maximus                CorrectedQuery: elephas maximus                IsCorrect: True\n",
      "\u001b[39m\u001b[32mQuery: Equus africanus                CorrectedQuery: equus africanus                IsCorrect: True\n",
      "\u001b[39m\u001b[32mQuery: Equus caballus                 CorrectedQuery: equus caballus                 IsCorrect: True\n",
      "\u001b[39m\u001b[32mQuery: Equus quagga                   CorrectedQuery: equus quagga                   IsCorrect: True\n",
      "\u001b[39m\u001b[31mQuery: Eudynamis scolopaccus          CorrectedQuery: eudynamys scolopaceus          IsCorrect: False\n",
      "\u001b[39m\u001b[32mQuery: Felis domesticus               CorrectedQuery: felis domesticus               IsCorrect: True\n",
      "\u001b[39m\u001b[31mQuery: Gavialis gangeticus            CorrectedQuery: avialis gangeticus             IsCorrect: False\n",
      "\u001b[39m\u001b[31mQuery: Gazella bennettii              CorrectedQuery: ganella bennettii              IsCorrect: False\n",
      "\u001b[39m\u001b[31mQuery: Giraffa camelopardalis         CorrectedQuery: iraffa camelopardalis          IsCorrect: False\n",
      "\u001b[39m\u001b[32mQuery: Grus leucogeranus              CorrectedQuery: grus leucogeranus              IsCorrect: True\n",
      "\u001b[39m\u001b[32mQuery: Hemidactylus flaviviridis      CorrectedQuery: hemidactylus flaviviridis      IsCorrect: True\n",
      "\u001b[39m\u001b[32mQuery: Hippopotamus amphibius         CorrectedQuery: hippopotamus amphibius         IsCorrect: True\n",
      "\u001b[39m\u001b[31mQuery: Hydrophiinae                   CorrectedQuery: hydrophiine                    IsCorrect: False\n",
      "\u001b[39m\u001b[32mQuery: Macaca mulatta                 CorrectedQuery: macaca mulatta                 IsCorrect: True\n",
      "\u001b[39m\u001b[31mQuery: Molpastes cafer                CorrectedQuery: mol pastes cafer               IsCorrect: False\n",
      "\u001b[39m\u001b[32mQuery: Mus musculus                   CorrectedQuery: mus musculus                   IsCorrect: True\n",
      "\u001b[39m\u001b[32mQuery: Naja naja                      CorrectedQuery: naja naja                      IsCorrect: True\n",
      "\u001b[39m\u001b[32mQuery: Ophiophagus hannah             CorrectedQuery: ophiophagus hannah             IsCorrect: True\n",
      "\u001b[39m\u001b[31mQuery: Oryctolagus cuniculus          CorrectedQuery: ryctolagus cuniculus           IsCorrect: False\n",
      "\u001b[39m\u001b[32mQuery: Panthera Tigris                CorrectedQuery: panthera tigris                IsCorrect: True\n",
      "\u001b[39m\u001b[32mQuery: Panthera leo                   CorrectedQuery: panthera leo                   IsCorrect: True\n",
      "\u001b[39m\u001b[31mQuery: Panthera pardus                CorrectedQuery: panthera parvus                IsCorrect: False\n",
      "\u001b[39m\u001b[31mQuery: Passer domesticus              CorrectedQuery: asser domesticus               IsCorrect: False\n",
      "\u001b[39m\u001b[32mQuery: Pavo cristatus                 CorrectedQuery: pavo cristatus                 IsCorrect: True\n",
      "\u001b[39m\u001b[32mQuery: Psittacula eupatria            CorrectedQuery: psittacula eupatria            IsCorrect: True\n",
      "\u001b[39m\u001b[31mQuery: Ptyas mucosa                   CorrectedQuery: ptdas mucosa                   IsCorrect: False\n",
      "\u001b[39m\u001b[31mQuery: Python molurus                 CorrectedQuery: ython molurus                  IsCorrect: False\n",
      "\u001b[39m\u001b[32mQuery: Rattus rattus                  CorrectedQuery: rattus rattus                  IsCorrect: True\n",
      "\u001b[39m\u001b[31mQuery: Rhinoceros unicornis           CorrectedQuery: hinoceros unicornis            IsCorrect: False\n",
      "\u001b[39m\u001b[32mQuery: Sus scrofa                     CorrectedQuery: sus scrofa                     IsCorrect: True\n",
      "\u001b[39m\u001b[32mQuery: Vulpes vulpes                  CorrectedQuery: vulpes vulpes                  IsCorrect: True\n",
      "\u001b[39mCorrect: 31 Incorrect: 13\n"
     ]
    }
   ],
   "source": [
    "correct_count = incorrect_count = 0\n",
    "for val in term:\n",
    "    record = Entrez.read(Entrez.espell(db='pmc', term=val))\n",
    "    if record is not None:\n",
    "        is_correct = record[\"Query\"].lower() == record[\"CorrectedQuery\"]\n",
    "        if is_correct:\n",
    "            correct_count += 1\n",
    "            print(f'{Fore.GREEN}Query: {record[\"Query\"]:30s} CorrectedQuery: {record[\"CorrectedQuery\"]:30s} IsCorrect: {is_correct}')\n",
    "        else:\n",
    "            incorrect_count += 1\n",
    "            print(f'{Fore.RED}Query: {record[\"Query\"]:30s} CorrectedQuery: {record[\"CorrectedQuery\"]:30s} IsCorrect: {is_correct}')\n",
    "    print(f'{Fore.RESET}', end='')\n",
    "print(f'Correct: {correct_count} Incorrect: {incorrect_count}')"
   ]
  },
  {
   "cell_type": "markdown",
   "metadata": {},
   "source": [
    "***Analyzing incorrect query with taxonomy scientific name***"
   ]
  },
  {
   "cell_type": "markdown",
   "metadata": {},
   "source": [
    "Based on the Query and CorrectedQuery columns, there are incorrect CorrectedQueries in the dataset which shown below along with their corresponding Queries:\n",
    "***True***\n",
    "01. antelope cervicapra      -> antilope cervicapra\n",
    "02. camelus dromedaries      -> camelus dromedarius\n",
    "***False***\n",
    "01. avialis gangeticus       -> gavialis gangeticus\n",
    "02. ganella bennettii        -> gazella bennettii\n",
    "03. iraffa camelopardalis    -> giraffa camelopardalis\n",
    "04. hydrophiine              -> hydrophiinae\n",
    "05. mol pastes cafer         -> molpastes cafer\n",
    "06. ryctolagus cuniculus     -> oryctolagus cuniculus\n",
    "07. panthera parvus          -> panthera pardus\n",
    "08. asser domesticus         -> passer domesticus\n",
    "09. ptdas mucosa             -> ptyas mucosa\n",
    "10. ython molurus            -> python molurus\n",
    "11. hinoceros unicornis      -> rhinoceros unicornis"
   ]
  },
  {
   "cell_type": "markdown",
   "metadata": {},
   "source": [
    "***Replacing incorrect queries into new list***"
   ]
  },
  {
   "cell_type": "code",
   "execution_count": 4,
   "metadata": {},
   "outputs": [],
   "source": [
    "nterm = ['Acinonyx jubatus', 'Acridotheres tristis', 'Antilope cervicapra', 'Bubalus bubalis', 'Bos gaurus',\n",
    "         'Boselaphus tragocamelus', 'Bubo virginianus','Camelus dromedarius', 'Canis lupus', 'Cervus canadensis',\n",
    "         'Columba livia', 'Corvus splendens', 'Crocodylus palustris', 'Elephas maximus', 'Equus africanus', 'Equus caballus',\n",
    "         'Equus quagga', 'Eudynamys scolopaceus', 'Felis domesticus', 'Gavialis gangeticus', 'Gazella bennettii',\n",
    "         'Giraffa camelopardalis ', 'Grus leucogeranus', 'Hemidactylus flaviviridis', 'Hippopotamus amphibius', 'Hydrophiidae',\n",
    "         'Macaca mulatta', 'Pycnonotus cafer', 'Mus musculus', 'Naja naja', 'Ophiophagus hannah', 'Oryctolagus cuniculus',\n",
    "         'Panthera Tigris', 'Panthera leo', 'Panthera pardus', 'Passer domesticus', 'Pavo cristatus', 'Psittacula eupatria',\n",
    "         'Ptyas mucosa', 'Python molurus', 'Rattus rattus', 'Rhinoceros unicornis', 'Sus scrofa', 'Vulpes vulpes']\n",
    "nterm = list(set(nterm))\n",
    "nterm.sort()"
   ]
  },
  {
   "cell_type": "markdown",
   "metadata": {},
   "source": [
    "***Finding corresponding common names (Automatic)***"
   ]
  },
  {
   "cell_type": "code",
   "execution_count": 9,
   "metadata": {},
   "outputs": [
    {
     "name": "stdout",
     "output_type": "stream",
     "text": [
      "01. Hippopotamus amphibius         -> hippopotamus\n",
      "02. Felis domesticus               -> cat\n",
      "03. Elephas maximus                -> Asian elephant\n",
      "04. Panthera Tigris                -> tiger\n",
      "05. Ophiophagus hannah             -> king cobra\n",
      "06. Antilope cervicapra            -> blackbuck\n",
      "07. Acridotheres tristis           -> common myna\n",
      "08. Psittacula eupatria            -> Alexandrine parakeet\n",
      "09. Mus musculus                   -> mouse\n",
      "10. Oryctolagus cuniculus          -> European rabbit\n",
      "11. Rattus rattus                  -> house rat\n",
      "12. Camelus dromedarius            -> camel\n",
      "13. Cervus canadensis              -> elk\n",
      "14. Columba livia                  -> carrier pigeon\n",
      "15. Canis lupus                    -> grey wolf\n",
      "16. Bos gaurus                     -> seladang\n",
      "17. Eudynamys scolopaceus          -> common koel\n",
      "18. Bubalus bubalis                -> domestic water buffalo\n",
      "19. Pavo cristatus                 -> blue peafowl\n",
      "20. Passer domesticus              -> Error\n"
     ]
    }
   ],
   "source": [
    "number = 1\n",
    "for taxon in random.sample(nterm, 20):\n",
    "    print(f'{number:02d}. {taxon:30s} -> ', end='')\n",
    "    number = number + 1\n",
    "    try:\n",
    "        handle = Entrez.esearch(db='taxonomy', term='\"' + taxon + '\"', rettype='gb', retmode='text')\n",
    "        record = Entrez.read(handle, validate=False)\n",
    "        handle.close()\n",
    "        handle = Entrez.efetch(db='taxonomy', id=record['IdList'], retmode='xml')\n",
    "        record = Entrez.read(handle, validate=False)\n",
    "        handle.close()\n",
    "        common_name = record[0]['OtherNames']['CommonName']\n",
    "        if common_name == []:\n",
    "            common_name = record[0]['OtherNames']['GenbankCommonName']\n",
    "        if type(common_name) == list and len(common_name) > 0:\n",
    "            print(f'{common_name[0]}')\n",
    "        else:\n",
    "            print(f'{common_name}')\n",
    "    except:\n",
    "        print('Error')"
   ]
  },
  {
   "cell_type": "markdown",
   "metadata": {},
   "source": [
    "***Finding corresponding common names (Manual)***"
   ]
  },
  {
   "cell_type": "markdown",
   "metadata": {},
   "source": [
    "01. Acinonyx jubatus            -> Cheetah\n",
    "02. Boselaphus tragocamelus     -> Nilgai (Largest antelope)\n",
    "03. Camelus dromedarius         -> Dromedary camel\n",
    "04. Canis lupus                 -> Gray wolf\n",
    "05. Columba livia               -> Rock pigeon\n",
    "06. Corvus splendens            -> House crow\n",
    "07. Gavialis gangeticus         -> Gharial (Crocodile)\n",
    "08. Grus leucogeranus           -> Siberian crane\n",
    "09. Hemidactylus flaviviridis   -> Yellow-belly gecko\n",
    "10. Hydrophiinae                -> Coral reef snake\n",
    "11. Macaca mulatta              -> Macaque rhesus (Old world monkey)\n",
    "12. Molpastes cafer             -> Red-vented bulbul\n",
    "13. Mus musculus                -> House mouse\n",
    "14. Ophiophagus hannah          -> King cobra\n",
    "15. Pavo cristatus              -> Indian peafowl\n",
    "16. Psittacula eupatria         -> Alexandrine parakeet\n",
    "17. Ptyas mucosa                -> Oriental rat snake\n",
    "18. Rattus rattus               -> Black rat\n",
    "19. Rhinoceros unicornis        -> Indian rhinoceros\n",
    "20. Vulpes vulpes               -> Red fox"
   ]
  },
  {
   "cell_type": "markdown",
   "metadata": {},
   "source": [
    "***Getting NCBI Taxonomy and Genomic Data***"
   ]
  },
  {
   "cell_type": "code",
   "execution_count": 7,
   "metadata": {},
   "outputs": [
    {
     "name": "stdout",
     "output_type": "stream",
     "text": [
      "ID         : 9627\n",
      "Animal Name: Vulpes vulpes (silver fox)\n",
      "Rank       : species\n",
      "\n",
      "Lineage:\n",
      "### no rank        : cellular organisms\n",
      "### superkingdom   : Eukaryota\n",
      "### clade          : Opisthokonta\n",
      "### kingdom        : Metazoa\n",
      "### clade          : Eumetazoa\n",
      "### clade          : Bilateria\n",
      "### clade          : Deuterostomia\n",
      "### phylum         : Chordata\n",
      "### subphylum      : Craniata\n",
      "### clade          : Vertebrata\n",
      "### clade          : Gnathostomata\n",
      "### clade          : Teleostomi\n",
      "### clade          : Euteleostomi\n",
      "### superclass     : Sarcopterygii\n",
      "### clade          : Dipnotetrapodomorpha\n",
      "### clade          : Tetrapoda\n",
      "### clade          : Amniota\n",
      "### class          : Mammalia\n",
      "### clade          : Theria\n",
      "### clade          : Eutheria\n",
      "### clade          : Boreoeutheria\n",
      "### superorder     : Laurasiatheria\n",
      "### order          : Carnivora\n",
      "### suborder       : Caniformia\n",
      "### family         : Canidae\n",
      "### genus          : Vulpes\n",
      "\n",
      "Geographic Range:\n",
      "Red foxes are found throughout much of the northern hemisphere from the Arctic circle to Central America, the steppes\n",
      "of central Asia, and northern Africa. This species has the widest distribution of any canid. Red foxes have also been\n",
      "introduced to Australia and the Falkland Islands.\n",
      "\n",
      "Habitat:\n",
      "Red foxes utilize a wide range of habitats including forest, tundra, prairie, desert, mountains, farmlands, and urban\n",
      "areas. They prefer mixed vegetation communities, such as edge habitats and mixed scrub and woodland. They are found\n",
      "from sea level to 4500 meters elevation.\n",
      "\n",
      "Genomic Studies:\n",
      "1. Red fox genome assembly identifies genomic regions associated with tame and aggressive behaviours.\n",
      "2. Pinniped phylogeny and a new hypothesis for their origin and dispersal.\n",
      "3. High-Quality Chromosome-Level Genome Assembly of the Corsac Fox (Vulpes corsac) Reveals Adaptation to Semiarid and Harsh Environments.\n",
      "4. Genomic Consequences of Fragmentation in the Endangered Fennoscandian Arctic Fox (Vulpes lagopus).\n",
      "5. Ampliseq for Illumina Technology Enables Detailed Molecular Epidemiology of Rabies Lyssaviruses from Infected Formalin-Fixed Paraffin-Embedded Tissues.\n",
      "\n",
      "There are 29061 genomic data found with total size of 2.4 GB.\n",
      "\n",
      "Additional Information: (subspecies)\n",
      "vulpes vulpes fulvus, vulpes vulpes japonica, vulpes vulpes montana, vulpes vulpes schrenckii.\n"
     ]
    }
   ],
   "source": [
    "selected_animal = 'Vulpes vulpes'\n",
    "handle = Entrez.esearch(db='taxonomy', term='\"' + selected_animal + '\"', rettype='gb', retmode='text')\n",
    "record = Entrez.read(handle, validate=False)\n",
    "handle.close()\n",
    "handle = Entrez.efetch(db='taxonomy', id=record['IdList'], retmode='xml')\n",
    "record = Entrez.read(handle, validate=False)\n",
    "handle.close()\n",
    "\n",
    "# Source from https://www.ncbi.nlm.nih.gov/Taxonomy/Browser/wwwtax.cgi?mode=Info&id=9627&lvl=3&p=has_linkout&p=blast_url&p=genome_blast&lin=f&keep=1&srchmode=1&unlock\n",
    "\n",
    "print(f'ID         : {record[0][\"TaxId\"]}')\n",
    "print(f'Animal Name: {record[0][\"ScientificName\"]} ({record[0][\"OtherNames\"][\"CommonName\"][0]})')\n",
    "print(f'Rank       : {record[0][\"Rank\"]}')\n",
    "print()\n",
    "print(f'Lineage:')\n",
    "for lineage in record[0]['LineageEx']:\n",
    "    print(f'### {lineage[\"Rank\"]:15s}: {lineage[\"ScientificName\"]}')\n",
    "print()\n",
    "\n",
    "# Source from http://animaldiversity.ummz.umich.edu/accounts/vulpes/v._vulpes\n",
    "\n",
    "print(f'Geographic Range:\\nRed foxes are found throughout much of the northern hemisphere from the Arctic circle to Central America, the steppes\\nof central Asia, and northern Africa. This species has the widest distribution of any canid. Red foxes have also been\\nintroduced to Australia and the Falkland Islands.')\n",
    "print()\n",
    "print(f'Habitat:\\nRed foxes utilize a wide range of habitats including forest, tundra, prairie, desert, mountains, farmlands, and urban\\nareas. They prefer mixed vegetation communities, such as edge habitats and mixed scrub and woodland. They are found\\nfrom sea level to 4500 meters elevation.')\n",
    "print()\n",
    "\n",
    "# Source from https://www.ncbi.nlm.nih.gov/datasets/genome/GCF_003160815.1/\n",
    "\n",
    "print(f'Genomic Studies:\\n1. Red fox genome assembly identifies genomic regions associated with tame and aggressive behaviours.\\n2. Pinniped phylogeny and a new hypothesis for their origin and dispersal.\\n3. High-Quality Chromosome-Level Genome Assembly of the Corsac Fox (Vulpes corsac) Reveals Adaptation to Semiarid and Harsh Environments.\\n4. Genomic Consequences of Fragmentation in the Endangered Fennoscandian Arctic Fox (Vulpes lagopus).\\n5. Ampliseq for Illumina Technology Enables Detailed Molecular Epidemiology of Rabies Lyssaviruses from Infected Formalin-Fixed Paraffin-Embedded Tissues.\\n')\n",
    "\n",
    "# Source from https://www.ncbi.nlm.nih.gov/datasets/genome/GCF_003160815.1/\n",
    "\n",
    "print(f'There are 29061 genomic data found with total size of 2.4 GB.\\n')\n",
    "\n",
    "# Source from https://www.ncbi.nlm.nih.gov/Taxonomy/Browser/wwwtax.cgi?mode=Tree&id=9627&lvl=3&keep=1&srchmode=1&unlock\n",
    "\n",
    "print(f'Additional Information: (subspecies)\\nvulpes vulpes fulvus, vulpes vulpes japonica, vulpes vulpes montana, vulpes vulpes schrenckii.')"
   ]
  },
  {
   "cell_type": "markdown",
   "metadata": {},
   "source": [
    "***CD Drive storage allocation***"
   ]
  },
  {
   "cell_type": "markdown",
   "metadata": {},
   "source": [
    "By looking at the size, it is estimated that we need just one CD to save the genomic data."
   ]
  }
 ],
 "metadata": {
  "kernelspec": {
   "display_name": "Python 3",
   "language": "python",
   "name": "python3"
  },
  "language_info": {
   "codemirror_mode": {
    "name": "ipython",
    "version": 3
   },
   "file_extension": ".py",
   "mimetype": "text/x-python",
   "name": "python",
   "nbconvert_exporter": "python",
   "pygments_lexer": "ipython3",
   "version": "3.11.6"
  }
 },
 "nbformat": 4,
 "nbformat_minor": 2
}
